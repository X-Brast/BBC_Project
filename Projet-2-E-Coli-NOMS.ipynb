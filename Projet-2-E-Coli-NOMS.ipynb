{
 "cells": [
  {
   "cell_type": "markdown",
   "metadata": {},
   "source": [
    "# BBC - Projet 2\n",
    "## Test pour détecter la présence de la bactérie E. coli dans l'eau\n",
    "\n",
    "- Alexandre Monteiro Marques\n",
    "- Simon Walther\n",
    "- Stéphane Bouyiatiotis\n",
    "\n",
    "Date: Printemps 2020"
   ]
  },
  {
   "cell_type": "markdown",
   "metadata": {},
   "source": [
    "## Objectifs\n",
    "\n",
    "Le projet consiste à développer un test pour détecter dans l’eau la présence de la bactérie E. Coli. En utilisant la bio-informatique, nous pouvons reconnaître et caractériser les épitopes potentiels pour découvrir les anticorps pour la détection de la bactérie cible.\n",
    "\n",
    "## Démarche\n",
    "\n",
    "- Recherche d’informations sur le projet (Décrire les bactéries, et notamment de E. coli, pourquoi chercher à détecter E. Coli dans l’eau, quels sont les différents tests possibles pour détecter la bactérie dans l’eau, que sont les peptides, Etc…)\n",
    "- Plan/Stratégie/méthodologie pour la bonne résolution du projet\n",
    "- Récupérer la séquence protéique cible\n",
    "- Recherche des épitopes\n",
    " - Sélectionner les outils immuno-informatiques les plus performants\n",
    " - Identification des épitopes\n",
    " - Calculer leurs scores (prendre en compte l’hydrophilie, la conservation, autres?)\n",
    " - Classez les épitopes candidats en fonction de ces scores.\n"
   ]
  },
  {
   "cell_type": "markdown",
   "metadata": {},
   "source": [
    "## BLAST"
   ]
  },
  {
   "cell_type": "code",
   "execution_count": null,
   "metadata": {},
   "outputs": [],
   "source": [
    "from Bio import SeqIO\n",
    "from Bio.Blast import NCBIWWW\n",
    "from Bio.Blast import NCBIXML"
   ]
  },
  {
   "cell_type": "code",
   "execution_count": null,
   "metadata": {},
   "outputs": [],
   "source": [
    "handle = open('proj_sequence_ompFPorin.fasta', 'r') # r = open for reading (default)\n",
    "records = list(SeqIO.parse(handle, 'fasta'))\n",
    "handle.close()\n",
    "print(records[0].seq)"
   ]
  }
 ],
 "metadata": {
  "kernelspec": {
   "display_name": "Python 3",
   "language": "python",
   "name": "python3"
  },
  "language_info": {
   "codemirror_mode": {
    "name": "ipython",
    "version": 3
   },
   "file_extension": ".py",
   "mimetype": "text/x-python",
   "name": "python",
   "nbconvert_exporter": "python",
   "pygments_lexer": "ipython3",
   "version": "3.7.7"
  }
 },
 "nbformat": 4,
 "nbformat_minor": 4
}
